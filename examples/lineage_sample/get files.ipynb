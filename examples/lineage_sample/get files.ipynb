{
 "cells": [
  {
   "cell_type": "code",
   "execution_count": 1,
   "id": "74915ba3",
   "metadata": {},
   "outputs": [
    {
     "name": "stdout",
     "output_type": "stream",
     "text": [
      "scp awatters@rusty:/mnt/ceph/users/lbrown/MouseData/Maddy/220827_stack6/registered_images/membrane_reg8_2.tif .\n",
      "scp awatters@rusty:/mnt/ceph/users/lbrown/MouseData/Maddy/220827_stack6/registered_images/nuclei_reg8_2.tif .\n",
      "scp awatters@rusty:/mnt/ceph/users/lbrown/MouseData/Maddy/220827_stack6/registered_label_images/label_reg8_2.tif .\n",
      "scp awatters@rusty:/mnt/ceph/users/lbrown/MouseData/Maddy/220827_stack6/registered_images/membrane_reg8_1.tif .\n",
      "scp awatters@rusty:/mnt/ceph/users/lbrown/MouseData/Maddy/220827_stack6/registered_images/nuclei_reg8_1.tif .\n",
      "scp awatters@rusty:/mnt/ceph/users/lbrown/MouseData/Maddy/220827_stack6/registered_label_images/label_reg8_1.tif .\n",
      "scp awatters@rusty:/mnt/ceph/users/lbrown/MouseData/Maddy/220827_stack6/LineageGraph.json .\n"
     ]
    }
   ],
   "source": [
    "files = \"\"\"\n",
    "registered_images/membrane_reg8_2.tif  registered_images/nuclei_reg8_2.tif  registered_label_images/label_reg8_2.tif\n",
    "registered_images/membrane_reg8_1.tif  registered_images/nuclei_reg8_1.tif  registered_label_images/label_reg8_1.tif\n",
    "LineageGraph.json\n",
    "\"\"\"\n",
    "\n",
    "prefix = \"/mnt/ceph/users/lbrown/MouseData/Maddy/220827_stack6\"\n",
    "\n",
    "for path in files.split():\n",
    "    print(\"scp awatters@rusty:\" + prefix + \"/\" + path, \".\")"
   ]
  },
  {
   "cell_type": "code",
   "execution_count": null,
   "id": "9bfca836",
   "metadata": {},
   "outputs": [],
   "source": []
  }
 ],
 "metadata": {
  "kernelspec": {
   "display_name": "Python 3",
   "language": "python",
   "name": "python3"
  },
  "language_info": {
   "codemirror_mode": {
    "name": "ipython",
    "version": 3
   },
   "file_extension": ".py",
   "mimetype": "text/x-python",
   "name": "python",
   "nbconvert_exporter": "python",
   "pygments_lexer": "ipython3",
   "version": "3.6.8"
  }
 },
 "nbformat": 4,
 "nbformat_minor": 5
}
